{
 "cells": [
  {
   "cell_type": "markdown",
   "metadata": {},
   "source": [
    "# Christ (Deemed to be University), Bengaluru.\n",
    "\n",
    "## MCA171 Python Programming\n",
    "\n",
    "### Lab Exercises 7\n",
    "\n",
    "#### Department of Computer Science"
   ]
  },
  {
   "cell_type": "markdown",
   "metadata": {},
   "source": [
    "### Import Libraries and Data"
   ]
  },
  {
   "cell_type": "code",
   "execution_count": 1,
   "metadata": {},
   "outputs": [],
   "source": [
    "import numpy as np\n",
    "import pandas as pd"
   ]
  },
  {
   "cell_type": "code",
   "execution_count": 17,
   "metadata": {},
   "outputs": [
    {
     "name": "stdout",
     "output_type": "stream",
     "text": [
      "   Age Sex ChestPainType  RestingBP  Cholesterol  FastingBS RestingECG  MaxHR  \\\n",
      "0   40   M           ATA        140          289        0.0     Normal    172   \n",
      "1   49   F           NAP        160          180        NaN     Normal    156   \n",
      "2   37   M           ATA        130          283        0.0         ST     98   \n",
      "3   48   F           ASY        138          214        0.0     Normal    108   \n",
      "4   54   M           NAP        150          195        0.0     Normal    122   \n",
      "\n",
      "  ExerciseAngina  Oldpeak ST_Slope  HeartDisease  \n",
      "0              N      0.0       Up             0  \n",
      "1              N      1.0     Flat             1  \n",
      "2              N      0.0       Up             0  \n",
      "3              Y      1.5     Flat             1  \n",
      "4              N      0.0       Up             0  \n"
     ]
    }
   ],
   "source": [
    "df = pd.read_csv('./heart.csv')\n",
    "print(df.head())"
   ]
  },
  {
   "cell_type": "markdown",
   "metadata": {},
   "source": [
    "### Data Missing Values"
   ]
  },
  {
   "cell_type": "code",
   "execution_count": 3,
   "metadata": {},
   "outputs": [
    {
     "data": {
      "text/plain": [
       "Age                0\n",
       "Sex                0\n",
       "ChestPainType      0\n",
       "RestingBP          0\n",
       "Cholesterol        0\n",
       "FastingBS         35\n",
       "RestingECG        30\n",
       "MaxHR              0\n",
       "ExerciseAngina     0\n",
       "Oldpeak            0\n",
       "ST_Slope           0\n",
       "HeartDisease       0\n",
       "dtype: int64"
      ]
     },
     "execution_count": 3,
     "metadata": {},
     "output_type": "execute_result"
    }
   ],
   "source": [
    "print(df.isnull().sum())"
   ]
  },
  {
   "cell_type": "markdown",
   "metadata": {},
   "source": [
    "### Handle Missing Values"
   ]
  },
  {
   "cell_type": "code",
   "execution_count": 18,
   "metadata": {},
   "outputs": [
    {
     "name": "stdout",
     "output_type": "stream",
     "text": [
      "   FastingBS RestingECG\n",
      "0        0.0     Normal\n"
     ]
    }
   ],
   "source": [
    "print(df.loc[:, ['FastingBS', 'RestingECG']].mode())"
   ]
  },
  {
   "cell_type": "code",
   "execution_count": 4,
   "metadata": {},
   "outputs": [],
   "source": [
    "df['FastingBS'] = df['FastingBS'].fillna(df['FastingBS'].mode()[0])"
   ]
  },
  {
   "cell_type": "code",
   "execution_count": 5,
   "metadata": {},
   "outputs": [],
   "source": [
    "df['RestingECG'] = df['RestingECG'].fillna(df['RestingECG'].mode()[0])"
   ]
  },
  {
   "cell_type": "code",
   "execution_count": 14,
   "metadata": {},
   "outputs": [
    {
     "name": "stdout",
     "output_type": "stream",
     "text": [
      "Age               0\n",
      "Sex               0\n",
      "ChestPainType     0\n",
      "RestingBP         0\n",
      "Cholesterol       0\n",
      "FastingBS         0\n",
      "RestingECG        0\n",
      "MaxHR             0\n",
      "ExerciseAngina    0\n",
      "Oldpeak           0\n",
      "ST_Slope          0\n",
      "HeartDisease      0\n",
      "dtype: int64\n"
     ]
    }
   ],
   "source": [
    "print(df.isnull().sum())"
   ]
  },
  {
   "cell_type": "markdown",
   "metadata": {},
   "source": [
    "### Hierarchical Indexing"
   ]
  },
  {
   "cell_type": "code",
   "execution_count": 13,
   "metadata": {},
   "outputs": [
    {
     "name": "stdout",
     "output_type": "stream",
     "text": [
      "   Age Sex ChestPainType  RestingBP  Cholesterol  FastingBS RestingECG  MaxHR  \\\n",
      "0   40   M           ATA        140          289        0.0     Normal    172   \n",
      "1   49   F           NAP        160          180        0.0     Normal    156   \n",
      "2   37   M           ATA        130          283        0.0         ST     98   \n",
      "3   48   F           ASY        138          214        0.0     Normal    108   \n",
      "4   54   M           NAP        150          195        0.0     Normal    122   \n",
      "\n",
      "  ExerciseAngina  Oldpeak ST_Slope  HeartDisease  \n",
      "0              N      0.0       Up             0  \n",
      "1              N      1.0     Flat             1  \n",
      "2              N      0.0       Up             0  \n",
      "3              Y      1.5     Flat             1  \n",
      "4              N      0.0       Up             0  \n"
     ]
    }
   ],
   "source": [
    "print(df.head())"
   ]
  },
  {
   "cell_type": "code",
   "execution_count": 11,
   "metadata": {},
   "outputs": [
    {
     "name": "stdout",
     "output_type": "stream",
     "text": [
      "                          Age Sex  RestingBP  Cholesterol  FastingBS  MaxHR  \\\n",
      "ChestPainType RestingECG                                                      \n",
      "ATA           Normal       40   M        140          289        0.0    172   \n",
      "NAP           Normal       49   F        160          180        0.0    156   \n",
      "ATA           ST           37   M        130          283        0.0     98   \n",
      "ASY           Normal       48   F        138          214        0.0    108   \n",
      "NAP           Normal       54   M        150          195        0.0    122   \n",
      "\n",
      "                         ExerciseAngina  Oldpeak ST_Slope  HeartDisease  \n",
      "ChestPainType RestingECG                                                 \n",
      "ATA           Normal                  N      0.0       Up             0  \n",
      "NAP           Normal                  N      1.0     Flat             1  \n",
      "ATA           ST                      N      0.0       Up             0  \n",
      "ASY           Normal                  Y      1.5     Flat             1  \n",
      "NAP           Normal                  N      0.0       Up             0  \n"
     ]
    }
   ],
   "source": [
    "df_multi = df.set_index(['ChestPainType', 'RestingECG'])\n",
    "print(df_multi.head())"
   ]
  },
  {
   "cell_type": "markdown",
   "metadata": {},
   "source": [
    "### Aggregation"
   ]
  },
  {
   "cell_type": "code",
   "execution_count": 12,
   "metadata": {},
   "outputs": [
    {
     "name": "stdout",
     "output_type": "stream",
     "text": [
      "                 Average  Median   Mode  Standard Deviation\n",
      "Age            53.510893    54.0   54.0            9.432617\n",
      "RestingBP     132.396514   130.0  120.0           18.514154\n",
      "Cholesterol   198.799564   223.0    0.0          109.384145\n",
      "FastingBS       0.233115     0.0    0.0            0.423046\n",
      "MaxHR         136.809368   138.0  150.0           25.460334\n",
      "Oldpeak         0.887364     0.6    0.0            1.066570\n",
      "HeartDisease    0.553377     1.0    1.0            0.497414\n"
     ]
    }
   ],
   "source": [
    "df_agg = pd.DataFrame(\n",
    "  data={\n",
    "  'Average': np.array(df.mean(numeric_only=True)),\n",
    "  'Median': np.array(df.median(numeric_only=True)),\n",
    "  'Mode': np.array(df.mode(numeric_only=True).loc[0]),\n",
    "  'Standard Deviation': np.array(df.std(numeric_only=True))\n",
    "  }, \n",
    "  index=['Age', 'RestingBP', 'Cholesterol', 'FastingBS', 'MaxHR', 'Oldpeak','HeartDisease']\n",
    ")\n",
    "print(df_agg)"
   ]
  }
 ],
 "metadata": {
  "kernelspec": {
   "display_name": "base",
   "language": "python",
   "name": "python3"
  },
  "language_info": {
   "codemirror_mode": {
    "name": "ipython",
    "version": 3
   },
   "file_extension": ".py",
   "mimetype": "text/x-python",
   "name": "python",
   "nbconvert_exporter": "python",
   "pygments_lexer": "ipython3",
   "version": "3.11.5"
  }
 },
 "nbformat": 4,
 "nbformat_minor": 2
}
